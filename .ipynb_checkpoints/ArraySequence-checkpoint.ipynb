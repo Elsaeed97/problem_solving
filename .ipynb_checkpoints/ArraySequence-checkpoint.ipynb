{
 "cells": [
  {
   "cell_type": "markdown",
   "id": "9cea775f",
   "metadata": {},
   "source": [
    "#  Anagram Check 01\n"
   ]
  },
  {
   "cell_type": "code",
   "execution_count": 24,
   "id": "6124855b",
   "metadata": {},
   "outputs": [],
   "source": [
    "def anagram(s1,s2):\n",
    "    s1 = s1.replace(' ', '').lower()\n",
    "    s2 = s2.replace(' ', '').lower()\n",
    "    \n",
    "    return sorted(s1) == sorted(s2)"
   ]
  },
  {
   "cell_type": "code",
   "execution_count": 25,
   "id": "c71fee41",
   "metadata": {},
   "outputs": [
    {
     "data": {
      "text/plain": [
       "True"
      ]
     },
     "execution_count": 25,
     "metadata": {},
     "output_type": "execute_result"
    }
   ],
   "source": [
    "anagram('g d o 12  3','go d 321')"
   ]
  },
  {
   "cell_type": "code",
   "execution_count": 20,
   "id": "758def06",
   "metadata": {},
   "outputs": [],
   "source": [
    "def anagram2(s1,s2):\n",
    "    s1 = s1.replace(' ', '').lower()\n",
    "    s2 = s2.replace(' ', '').lower()\n",
    "    \n",
    "    if len(s1) != len(s2):\n",
    "        return False\n",
    "    count = {}\n",
    "    \n",
    "    for letter in s1:\n",
    "        if letter in count:\n",
    "            count[letter] += 1\n",
    "        else:\n",
    "            count[letter] = 1\n",
    "    for letter in s2:\n",
    "        if letter in count:\n",
    "            count[letter] -= 1\n",
    "        else:\n",
    "            count[letter] = 1\n",
    "    for k in count:\n",
    "        if count[k] != 0:\n",
    "            return False\n",
    "    \n",
    "    return True\n",
    "    "
   ]
  },
  {
   "cell_type": "code",
   "execution_count": 21,
   "id": "5a432205",
   "metadata": {},
   "outputs": [
    {
     "data": {
      "text/plain": [
       "False"
      ]
     },
     "execution_count": 21,
     "metadata": {},
     "output_type": "execute_result"
    }
   ],
   "source": [
    "anagram2('g d o  3','go d 321')"
   ]
  },
  {
   "cell_type": "markdown",
   "id": "a0697895",
   "metadata": {},
   "source": [
    "# Array Pair Sum 02\n"
   ]
  },
  {
   "cell_type": "code",
   "execution_count": 17,
   "id": "b54a4b9f",
   "metadata": {},
   "outputs": [],
   "source": [
    "def pair_sum(arr,k):\n",
    "    if len(arr) < 2:\n",
    "        return \"This Array only have 1 element\"\n",
    "    \n",
    "    seen = set()\n",
    "    output = set()\n",
    "    \n",
    "    for num in arr:\n",
    "        target = k - num\n",
    "        \n",
    "        if target not in seen:\n",
    "            seen.add(num)\n",
    "        else:\n",
    "            output.add( (min(num,target), max(num,target) ))\n",
    "    \n",
    "#     print( '\\n'.join(map(str,list(output))) )\n",
    "    return len(output)\n",
    "    "
   ]
  },
  {
   "cell_type": "code",
   "execution_count": 27,
   "id": "438cec09",
   "metadata": {},
   "outputs": [
    {
     "data": {
      "text/plain": [
       "3"
      ]
     },
     "execution_count": 27,
     "metadata": {},
     "output_type": "execute_result"
    }
   ],
   "source": [
    "pair_sum([1,2,3,2,1,5,4,0],5)"
   ]
  },
  {
   "cell_type": "markdown",
   "id": "25081468",
   "metadata": {},
   "source": [
    "# Find the missing element 03\n"
   ]
  },
  {
   "cell_type": "code",
   "execution_count": 28,
   "id": "043acdd5",
   "metadata": {},
   "outputs": [],
   "source": [
    "def finder(arr1, arr2):\n",
    "    arr1.sort()\n",
    "    arr2.sort()\n",
    "    \n",
    "    for num1,num2 in zip(arr1,arr2):\n",
    "        if num1 != num2:\n",
    "            return num1\n",
    "    return arr1[-1]"
   ]
  },
  {
   "cell_type": "code",
   "execution_count": 30,
   "id": "0c96861f",
   "metadata": {},
   "outputs": [
    {
     "data": {
      "text/plain": [
       "5"
      ]
     },
     "execution_count": 30,
     "metadata": {},
     "output_type": "execute_result"
    }
   ],
   "source": [
    "arr1 = [1,2,3,4,5,6,7]\n",
    "arr2 = [1,6,4,3,2,7]\n",
    "finder(arr1,arr2)"
   ]
  },
  {
   "cell_type": "markdown",
   "id": "c2245213",
   "metadata": {},
   "source": [
    "# Largest Continous Sum 04\n"
   ]
  },
  {
   "cell_type": "code",
   "execution_count": 3,
   "id": "e8146022",
   "metadata": {},
   "outputs": [],
   "source": [
    "def large_cont_sum(arr):\n",
    "    # edge case\n",
    "    if len(arr) == 0:\n",
    "        return 0\n",
    "    max_sum = current_sum = arr[0]\n",
    "    \n",
    "    for num in arr[1:]:\n",
    "        current_sum = max(current_sum + num, num)\n",
    "        max_sum = max(current_sum, max_sum)\n",
    "        \n",
    "    return max_sum "
   ]
  },
  {
   "cell_type": "code",
   "execution_count": 5,
   "id": "13051fe9",
   "metadata": {},
   "outputs": [
    {
     "data": {
      "text/plain": [
       "27"
      ]
     },
     "execution_count": 5,
     "metadata": {},
     "output_type": "execute_result"
    }
   ],
   "source": [
    "large_cont_sum([2,3,4,-18,3,4,20])"
   ]
  },
  {
   "cell_type": "markdown",
   "id": "11af9d7b",
   "metadata": {},
   "source": [
    "# Reverse String 05\n"
   ]
  },
  {
   "cell_type": "code",
   "execution_count": 8,
   "id": "cc1725f8",
   "metadata": {},
   "outputs": [],
   "source": [
    "def reverse(s):\n",
    "    st = ''\n",
    "    for ch in s:\n",
    "        st = ch + st\n",
    "    return st"
   ]
  },
  {
   "cell_type": "code",
   "execution_count": 9,
   "id": "3d92139a",
   "metadata": {},
   "outputs": [
    {
     "data": {
      "text/plain": [
       "'edis rehto eht morf olleh'"
      ]
     },
     "execution_count": 9,
     "metadata": {},
     "output_type": "execute_result"
    }
   ],
   "source": [
    "reverse(\"hello from the other side\")"
   ]
  },
  {
   "cell_type": "markdown",
   "id": "71a85f6e",
   "metadata": {},
   "source": [
    "# Reverse Sentence 06"
   ]
  },
  {
   "cell_type": "code",
   "execution_count": 1,
   "id": "5dced9fe",
   "metadata": {},
   "outputs": [],
   "source": [
    "def reverse_words(s):\n",
    "    words = []\n",
    "    length = len(s)\n",
    "    spaces = [' ']\n",
    "    \n",
    "    i = 0\n",
    "    \n",
    "    while i < length:\n",
    "        if s[i] not in spaces:\n",
    "            word_start = i\n",
    "            while i < length and s[i] not in spaces:\n",
    "                i += 1\n",
    "                \n",
    "            words.append(s[word_start:i])\n",
    "            \n",
    "        i += 1\n",
    "    return \" \".join(reversed(words))\n",
    "        \n",
    "    "
   ]
  },
  {
   "cell_type": "code",
   "execution_count": 2,
   "id": "5a26f9dd",
   "metadata": {},
   "outputs": [
    {
     "data": {
      "text/plain": [
       "'side other the From Hello'"
      ]
     },
     "execution_count": 2,
     "metadata": {},
     "output_type": "execute_result"
    }
   ],
   "source": [
    "reverse_words('Hello From the other side')"
   ]
  },
  {
   "cell_type": "markdown",
   "id": "ae33cccd",
   "metadata": {},
   "source": [
    "# String Unique Character"
   ]
  }
 ],
 "metadata": {
  "kernelspec": {
   "display_name": "Python 3",
   "language": "python",
   "name": "python3"
  },
  "language_info": {
   "codemirror_mode": {
    "name": "ipython",
    "version": 3
   },
   "file_extension": ".py",
   "mimetype": "text/x-python",
   "name": "python",
   "nbconvert_exporter": "python",
   "pygments_lexer": "ipython3",
   "version": "3.9.2"
  }
 },
 "nbformat": 4,
 "nbformat_minor": 5
}
